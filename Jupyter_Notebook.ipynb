{
 "cells": [
  {
   "cell_type": "markdown",
   "metadata": {},
   "source": [
    "<center>\n",
    "    <img src=\"https://cf-courses-data.s3.us.cloud-object-storage.appdomain.cloud/IBMDeveloperSkillsNetwork-DS0105EN-SkillsNetwork/labs/Module2/images/SN_web_lightmode.png\" width=\"300\" alt=\"cognitiveclass.ai logo\">\n",
    "</center>\n"
   ]
  },
  {
   "cell_type": "markdown",
   "metadata": {},
   "source": [
    "#### Add your code below following the instructions given in the course\n"
   ]
  },
  {
   "cell_type": "markdown",
   "metadata": {},
   "source": [
    "# Jupyter_NoteBook"
   ]
  },
  {
   "cell_type": "markdown",
   "metadata": {},
   "source": [
    "# an introduction"
   ]
  },
  {
   "cell_type": "markdown",
   "metadata": {},
   "source": [
    "# Data Science Languages\n",
    "# Python\n",
    "# R\n",
    "# SQL\n",
    "# Julia\n",
    "# Scala\n",
    "# Java\n",
    "# MATLAB\n",
    "# SAS"
   ]
  },
  {
   "cell_type": "markdown",
   "metadata": {},
   "source": [
    "# Popular Data Science Libraries\n",
    "## Python: NumPy, Pandas, Matplotlib, Seaborn, Scikit-learn, TensorFlow, Keras\n",
    "## R: dplyr, ggplot2, tidyr, caret, randomForest, data.table, shiny.\n",
    "## Julia: DataFrames.jl, Plots.jl, MLJ.jl, Flux.jl"
   ]
  },
  {
   "cell_type": "markdown",
   "metadata": {},
   "source": [
    "# Popular Data Science Tools\n",
    "\n",
    "\n",
    "| Tool Name         | Category               | Description                                                                 |\n",
    "| :---------------- | :--------------------- | :-------------------------------------------------------------------------- |\n",
    "| **Python** | Programming Language   | Versatile language with extensive libraries for data science.               |\n",
    "| **R** | Programming Language   | Statistical computing and graphics.                                         |\n",
    "| **SQL** | Database Language      | For managing and querying relational databases.                             |\n",
    "| **Jupyter Notebook** | IDE/Environment        | Interactive computing environment for code, text, and visualizations.       |\n",
    "| **RStudio** | IDE                    | Integrated development environment for R.                                   |\n",
    "| **VS Code** | IDE                    | Lightweight but powerful code editor with data science extensions.          |\n",
    "| **Anaconda** | Distribution/Package Manager | Comprehensive distribution for Python and R, including many data science packages. |\n",
    "| **NumPy** | Library (Python)       | Fundamental package for numerical computing.                               |\n",
    "| **Pandas** | Library (Python)       | Data manipulation and analysis.                                             |\n",
    "| **Scikit-learn** | Library (Python)       | Machine learning algorithms.                                                |\n",
    "| **TensorFlow** | Library (Python)       | Open-source machine learning framework for deep learning.                   |\n",
    "| **PyTorch** | Library (Python)       | Open-source machine learning framework for deep learning.                   |\n",
    "| **Matplotlib** | Library (Python)       | Data visualization.                                                         |\n",
    "| **Seaborn** | Library (Python)       | Statistical data visualization.                                             |\n",
    "| **Tableau** | Data Visualization     | Business intelligence tool for interactive data visualization.              |\n",
    "| **Power BI** | Data Visualization     | Business analytics service by Microsoft for interactive visualizations.     |\n",
    "| **Excel** | Spreadsheet Software   | Basic data analysis, cleaning, and visualization.                           |\n",
    "| **Git** | Version Control        | For tracking changes in source code during software development.            |\n",
    "| **Docker** | Containerization       | For packaging applications and their dependencies into containers.          |"
   ]
  },
  {
   "cell_type": "markdown",
   "metadata": {},
   "source": [
    "# arithmetic expression\n",
    "## Addition 2+1 = 3\n",
    "## Subraction 5-1 = 4\n",
    "## Multiplication 6*2 = 12\n",
    "## Divivsion 6/2 = 3"
   ]
  },
  {
   "cell_type": "code",
   "execution_count": 8,
   "metadata": {},
   "outputs": [
    {
     "data": {
      "text/plain": [
       "3"
      ]
     },
     "execution_count": 8,
     "metadata": {},
     "output_type": "execute_result"
    }
   ],
   "source": [
    "2+1"
   ]
  },
  {
   "cell_type": "code",
   "execution_count": 10,
   "metadata": {},
   "outputs": [
    {
     "data": {
      "text/plain": [
       "40"
      ]
     },
     "execution_count": 10,
     "metadata": {},
     "output_type": "execute_result"
    }
   ],
   "source": [
    "5*8"
   ]
  },
  {
   "cell_type": "code",
   "execution_count": 20,
   "metadata": {},
   "outputs": [
    {
     "name": "stdout",
     "output_type": "stream",
     "text": [
      "135 minutes is equal to 2.25 hours.\n"
     ]
    }
   ],
   "source": [
    "def convert_minutes_to_hours(minutes):\n",
    "  \"\"\"\n",
    "  Converts a given number of minutes into hours.\n",
    "\n",
    "  Args:\n",
    "    minutes (int or float): The number of minutes to convert.\n",
    "\n",
    "  Returns:\n",
    "    float: The equivalent number of hours.\n",
    "  \"\"\"\n",
    "  if not isinstance(minutes, (int, float)):\n",
    "    print(\"Error: Input must be a number (integer or float).\")\n",
    "    return None\n",
    "  \n",
    "  if minutes < 0:\n",
    "    print(\"Error: Minutes cannot be negative.\")\n",
    "    return None\n",
    "\n",
    "  hours = minutes / 60\n",
    "  return hours\n",
    "\n",
    "\n",
    "minutes_1 = 135\n",
    "hours_1 = convert_minutes_to_hours(minutes_1)\n",
    "if hours_1 is not None:\n",
    "  print(f\"{minutes_1} minutes is equal to {hours_1:.2f} hours.\")"
   ]
  },
  {
   "cell_type": "markdown",
   "metadata": {},
   "source": [
    "# Objectives\n",
    "\n",
    "* **Understand the Problem:**\n",
    "* **Data Acquisition & Cleaning:** \n",
    "* **Exploratory Data Analysis (EDA):**\n",
    "* **Model Development:** \n",
    "* **Communication of Results:** \n",
    "* **Code Readability & Maintainability:** \n",
    "* **Reproducibility:** \n",
    "* **Scalability:** \n",
    "* **Deployment:**"
   ]
  },
  {
   "cell_type": "markdown",
   "metadata": {},
   "source": [
    "# Author\n",
    "Vinay Vyas"
   ]
  },
  {
   "cell_type": "code",
   "execution_count": null,
   "metadata": {},
   "outputs": [],
   "source": []
  }
 ],
 "metadata": {
  "kernelspec": {
   "display_name": "Python 3 (ipykernel)",
   "language": "python",
   "name": "python3"
  },
  "language_info": {
   "codemirror_mode": {
    "name": "ipython",
    "version": 3
   },
   "file_extension": ".py",
   "mimetype": "text/x-python",
   "name": "python",
   "nbconvert_exporter": "python",
   "pygments_lexer": "ipython3",
   "version": "3.12.8"
  }
 },
 "nbformat": 4,
 "nbformat_minor": 4
}
